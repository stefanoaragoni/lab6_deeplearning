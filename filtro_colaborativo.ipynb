{
 "cells": [
  {
   "cell_type": "markdown",
   "metadata": {},
   "source": [
    "### Laboratorio 6 - Sistema de Recomendación (Basado En Filtro Colaborativo)\n",
    "Stefano Aragoni, Carol Arévalo\n",
    "\n",
    "-----------"
   ]
  },
  {
   "cell_type": "markdown",
   "metadata": {},
   "source": [
    "En esta práctica se diseñó una red neuronal para la predicción de ratings de películas, basado en el filtro colaborativo. Dicha red recibe el ID de un usuario y el ISBN de una película, y el grupo de usuario al que pertenece, y devuelve un rating estimado para dicha película.\n",
    "\n",
    "A continuación se muestra el código utilizado para la creación de la Red Neuronal, así como los resultados obtenidos.\n",
    "\n",
    "------- "
   ]
  },
  {
   "cell_type": "markdown",
   "metadata": {},
   "source": [
    "##### *Importar librerías*\n",
    "\n",
    "Como primer paso, se importaron las librerías necesarias para el desarrollo del laboratorio."
   ]
  },
  {
   "cell_type": "code",
   "execution_count": 82,
   "metadata": {},
   "outputs": [],
   "source": [
    "import pandas as pd\n",
    "import numpy as np\n",
    "import seaborn as sns\n",
    "from sklearn.preprocessing import LabelEncoder\n",
    "import matplotlib.pyplot as plt\n",
    "import tensorflow as tf\n",
    "from sklearn.model_selection import train_test_split\n",
    "from sklearn.preprocessing import MinMaxScaler\n",
    "from keras.models import Sequential\n",
    "from keras.layers import Dense, BatchNormalization, GaussianDropout\n",
    "from keras import regularizers\n",
    "from keras.layers import Dense, Dropout, LeakyReLU, PReLU, ELU\n",
    "from keras.layers import Activation\n",
    "from keras.callbacks import EarlyStopping"
   ]
  },
  {
   "cell_type": "markdown",
   "metadata": {},
   "source": [
    "##### *Cargar datos*\n",
    "\n",
    "Posteriormente, se cargaron los datos del archivo ./archive/final_ratings.csv. Este ya fue analizado y procesado en el análisis exploratorio de datos, por lo que no se realizaron modificaciones adicionales."
   ]
  },
  {
   "cell_type": "code",
   "execution_count": 83,
   "metadata": {},
   "outputs": [
    {
     "data": {
      "text/html": [
       "<div>\n",
       "<style scoped>\n",
       "    .dataframe tbody tr th:only-of-type {\n",
       "        vertical-align: middle;\n",
       "    }\n",
       "\n",
       "    .dataframe tbody tr th {\n",
       "        vertical-align: top;\n",
       "    }\n",
       "\n",
       "    .dataframe thead th {\n",
       "        text-align: right;\n",
       "    }\n",
       "</style>\n",
       "<table border=\"1\" class=\"dataframe\">\n",
       "  <thead>\n",
       "    <tr style=\"text-align: right;\">\n",
       "      <th></th>\n",
       "      <th>User-ID</th>\n",
       "      <th>Location</th>\n",
       "      <th>Age</th>\n",
       "      <th>ISBN</th>\n",
       "      <th>Book-Author</th>\n",
       "      <th>Year-Of-Publication</th>\n",
       "      <th>Publisher</th>\n",
       "      <th>Book-Rating</th>\n",
       "      <th>Continent</th>\n",
       "      <th>User-Group</th>\n",
       "    </tr>\n",
       "  </thead>\n",
       "  <tbody>\n",
       "    <tr>\n",
       "      <th>0</th>\n",
       "      <td>248805</td>\n",
       "      <td>111</td>\n",
       "      <td>34.0</td>\n",
       "      <td>425118703.0</td>\n",
       "      <td>21432</td>\n",
       "      <td>1995.0</td>\n",
       "      <td>1714</td>\n",
       "      <td>9</td>\n",
       "      <td>3</td>\n",
       "      <td>17</td>\n",
       "    </tr>\n",
       "    <tr>\n",
       "      <th>1</th>\n",
       "      <td>167614</td>\n",
       "      <td>111</td>\n",
       "      <td>46.0</td>\n",
       "      <td>345337662.0</td>\n",
       "      <td>5191</td>\n",
       "      <td>1993.0</td>\n",
       "      <td>1388</td>\n",
       "      <td>6</td>\n",
       "      <td>3</td>\n",
       "      <td>26</td>\n",
       "    </tr>\n",
       "    <tr>\n",
       "      <th>2</th>\n",
       "      <td>140036</td>\n",
       "      <td>111</td>\n",
       "      <td>35.0</td>\n",
       "      <td>688149553.0</td>\n",
       "      <td>81432</td>\n",
       "      <td>1997.0</td>\n",
       "      <td>11425</td>\n",
       "      <td>9</td>\n",
       "      <td>3</td>\n",
       "      <td>31</td>\n",
       "    </tr>\n",
       "    <tr>\n",
       "      <th>3</th>\n",
       "      <td>50446</td>\n",
       "      <td>111</td>\n",
       "      <td>18.0</td>\n",
       "      <td>679734775.0</td>\n",
       "      <td>86489</td>\n",
       "      <td>1991.0</td>\n",
       "      <td>15646</td>\n",
       "      <td>5</td>\n",
       "      <td>3</td>\n",
       "      <td>46</td>\n",
       "    </tr>\n",
       "    <tr>\n",
       "      <th>4</th>\n",
       "      <td>265889</td>\n",
       "      <td>18</td>\n",
       "      <td>30.0</td>\n",
       "      <td>743444477.0</td>\n",
       "      <td>12279</td>\n",
       "      <td>2003.0</td>\n",
       "      <td>11710</td>\n",
       "      <td>9</td>\n",
       "      <td>3</td>\n",
       "      <td>36</td>\n",
       "    </tr>\n",
       "  </tbody>\n",
       "</table>\n",
       "</div>"
      ],
      "text/plain": [
       "   User-ID  Location   Age         ISBN  Book-Author  Year-Of-Publication  \\\n",
       "0   248805       111  34.0  425118703.0        21432               1995.0   \n",
       "1   167614       111  46.0  345337662.0         5191               1993.0   \n",
       "2   140036       111  35.0  688149553.0        81432               1997.0   \n",
       "3    50446       111  18.0  679734775.0        86489               1991.0   \n",
       "4   265889        18  30.0  743444477.0        12279               2003.0   \n",
       "\n",
       "   Publisher  Book-Rating  Continent  User-Group  \n",
       "0       1714            9          3          17  \n",
       "1       1388            6          3          26  \n",
       "2      11425            9          3          31  \n",
       "3      15646            5          3          46  \n",
       "4      11710            9          3          36  "
      ]
     },
     "execution_count": 83,
     "metadata": {},
     "output_type": "execute_result"
    }
   ],
   "source": [
    "# Cargamos los datos\n",
    "df = pd.read_csv('./archive/final_ratings.csv')\n",
    "\n",
    "df.head()"
   ]
  },
  {
   "cell_type": "markdown",
   "metadata": {},
   "source": [
    "##### *Conjunto de Entrenamiento y Validación*\n",
    "\n",
    "Se separó el conjunto de datos en un conjunto de entrenamiento y un conjunto de validación, con el fin de poder evaluar el desempeño de la red neuronal."
   ]
  },
  {
   "cell_type": "code",
   "execution_count": 84,
   "metadata": {},
   "outputs": [
    {
     "name": "stdout",
     "output_type": "stream",
     "text": [
      "(213216, 4) (213216, 1) (91379, 4) (91379, 1)\n"
     ]
    }
   ],
   "source": [
    "scaler = MinMaxScaler()\n",
    "X = df[['User-ID', 'User-Group', 'ISBN', \"Book-Author\"]].values\n",
    "X = scaler.fit_transform(X)\n",
    "\n",
    "y = df[['Book-Rating']].values\n",
    "y = scaler.fit_transform(y)\n",
    "\n",
    "# Dividimos los datos en entrenamiento y validacion\n",
    "X_train, X_test, y_train, y_test = train_test_split(X, y, test_size=0.3, random_state=123)\n",
    "\n",
    "print(X_train.shape, y_train.shape, X_test.shape, y_test.shape)"
   ]
  },
  {
   "cell_type": "markdown",
   "metadata": {},
   "source": [
    "##### *Diseño de Red Neuronal*\n",
    "\n",
    "Posteriormente, se diseñó la red neuronal. Esta recibe como entrada el ID de un usuario, el ISBN de una película, y el grupo de usuario al que pertenece, y devuelve un rating estimado para dicha película.\n",
    "\n",
    "Esta red permite un Sistema de Recomendación basado en Filtro Colaborativo, ya que permite predecir el rating que un usuario le daría a una película, basado en los ratings que otros usuarios le han dado a dicha película y sus similitudes con el usuario en cuestión."
   ]
  },
  {
   "cell_type": "code",
   "execution_count": 85,
   "metadata": {},
   "outputs": [],
   "source": [
    "model2 = Sequential()\n",
    "\n",
    "model2.add(Dense(256, input_shape=(X_train.shape[1],), kernel_regularizer=regularizers.l2(0.01)))\n",
    "model2.add(Activation('relu'))\n",
    "model2.add(BatchNormalization())\n",
    "\n",
    "model2.add(Dense(128, kernel_regularizer=regularizers.l2(0.01)))\n",
    "model2.add(Activation('relu'))\n",
    "model2.add(Dropout(0.3))\n",
    "\n",
    "model2.add(Dense(64, kernel_regularizer=regularizers.l2(0.01)))\n",
    "model2.add(Activation('relu'))\n",
    "model2.add(BatchNormalization())\n",
    "\n",
    "model2.add(Dense(32, kernel_regularizer=regularizers.l2(0.01)))\n",
    "model2.add(Activation('relu'))\n",
    "model2.add(Dropout(0.3))\n",
    "\n",
    "model2.add(Dense(16, kernel_regularizer=regularizers.l2(0.01)))\n",
    "model2.add(Activation('relu'))\n",
    "model2.add(BatchNormalization())\n",
    "\n",
    "model2.add(Dense(1, activation='sigmoid'))\n",
    "\n",
    "model2.compile(optimizer='adam', loss='mean_squared_error')"
   ]
  },
  {
   "cell_type": "code",
   "execution_count": 86,
   "metadata": {},
   "outputs": [
    {
     "name": "stdout",
     "output_type": "stream",
     "text": [
      "Epoch 1/10\n",
      "292/292 [==============================] - 4s 8ms/step - loss: 0.7576 - val_loss: 0.1316\n",
      "Epoch 2/10\n",
      "292/292 [==============================] - 2s 8ms/step - loss: 0.1123 - val_loss: 0.1059\n",
      "Epoch 3/10\n",
      "292/292 [==============================] - 2s 7ms/step - loss: 0.1059 - val_loss: 0.1054\n",
      "Epoch 4/10\n",
      "292/292 [==============================] - 2s 7ms/step - loss: 0.1058 - val_loss: 0.1054\n",
      "Epoch 5/10\n",
      "292/292 [==============================] - 2s 8ms/step - loss: 0.1058 - val_loss: 0.1054\n",
      "Epoch 6/10\n",
      "292/292 [==============================] - 2s 7ms/step - loss: 0.1058 - val_loss: 0.1054\n",
      "Epoch 7/10\n",
      "292/292 [==============================] - 2s 8ms/step - loss: 0.1058 - val_loss: 0.1054\n",
      "Epoch 8/10\n",
      "292/292 [==============================] - 2s 8ms/step - loss: 0.1058 - val_loss: 0.1054\n",
      "Epoch 9/10\n",
      "292/292 [==============================] - 2s 8ms/step - loss: 0.1058 - val_loss: 0.1054\n",
      "Epoch 10/10\n",
      "292/292 [==============================] - 2s 9ms/step - loss: 0.1058 - val_loss: 0.1054\n",
      "2856/2856 [==============================] - 5s 2ms/step - loss: 0.1054\n",
      "\n",
      "Test loss (Model 1): 0.10539118200540543\n"
     ]
    }
   ],
   "source": [
    "# Ya que se utilizó Dropout 0.3, se debe utilizar solo el 0.7 de los datos de entrenamiento\n",
    "X_train2, _, y_train2, _ = train_test_split(X_train, y_train, test_size=0.3, random_state=123)\n",
    "\n",
    "# Early stopping para evitar overfitting\n",
    "early_stopping = EarlyStopping(monitor='val_loss', patience=5, restore_best_weights=True)\n",
    "\n",
    "# Enrtenamiento del modelo\n",
    "history2 = model2.fit(X_train2, y_train2, epochs=10, batch_size=512, validation_data=(X_test, y_test), callbacks=[early_stopping])\n",
    "\n",
    "loss1 = model2.evaluate(X_test, y_test)\n",
    "print(f\"\\nTest loss (Model 1): {loss1}\")"
   ]
  },
  {
   "cell_type": "markdown",
   "metadata": {},
   "source": [
    "En este caso, se tiene un MSE de 0.1053. Ya que los valores fueron escalados del 0 a 1, esto significa que el error promedio es 10.53%. Esto es un error relativamente bajo, por lo que se puede decir que la red neuronal tiene un buen desempeño."
   ]
  },
  {
   "cell_type": "code",
   "execution_count": 90,
   "metadata": {},
   "outputs": [
    {
     "data": {
      "image/png": "[encoded data removed]",
      "text/plain": [
       "<Figure size 640x480 with 1 Axes>"
      ]
     },
     "metadata": {},
     "output_type": "display_data"
    }
   ],
   "source": [
    "# Graficar la pérdida de entrenamiento y validación\n",
    "plt.plot(history2.history['loss'])\n",
    "plt.plot(history2.history['val_loss'])\n",
    "plt.title('Pérdida del modelo')\n",
    "plt.ylabel('Pérdida')\n",
    "plt.xlabel('Época')\n",
    "plt.legend(['Entrenamiento', 'Validación'], loc='upper right')\n",
    "\n",
    "plt.show()"
   ]
  }
 ],
 "metadata": {
  "kernelspec": {
   "display_name": "Python 3",
   "language": "python",
   "name": "python3"
  },
  "language_info": {
   "codemirror_mode": {
    "name": "ipython",
    "version": 3
   },
   "file_extension": ".py",
   "mimetype": "text/x-python",
   "name": "python",
   "nbconvert_exporter": "python",
   "pygments_lexer": "ipython3",
   "version": "3.9.2"
  }
 },
 "nbformat": 4,
 "nbformat_minor": 2
}
