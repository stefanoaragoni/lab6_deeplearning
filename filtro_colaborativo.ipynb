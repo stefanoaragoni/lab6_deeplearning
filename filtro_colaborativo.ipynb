{
 "cells": [
  {
   "cell_type": "markdown",
   "metadata": {},
   "source": [
    "### Laboratorio 6 - Sistema de Recomendación (Basado En Filtro Colaborativo)\n",
    "Stefano Aragoni, Carol Arévalo\n",
    "\n",
    "-----------"
   ]
  },
  {
   "cell_type": "markdown",
   "metadata": {},
   "source": [
    "En esta práctica se diseñó una red neuronal para la predicción de ratings de películas, basado en el filtro colaborativo. Dicha red recibe el ID de un usuario y el ISBN de una película, y el grupo de usuario al que pertenece, y devuelve un rating estimado para dicha película.\n",
    "\n",
    "A continuación se muestra el código utilizado para la creación de la Red Neuronal, así como los resultados obtenidos.\n",
    "\n",
    "------- "
   ]
  },
  {
   "cell_type": "markdown",
   "metadata": {},
   "source": [
    "##### *Importar librerías*\n",
    "\n",
    "Como primer paso, se importaron las librerías necesarias para el desarrollo del laboratorio."
   ]
  },
  {
   "cell_type": "code",
   "execution_count": 53,
   "metadata": {},
   "outputs": [],
   "source": [
    "import pandas as pd\n",
    "import numpy as np\n",
    "import seaborn as sns\n",
    "from sklearn.preprocessing import LabelEncoder\n",
    "import matplotlib.pyplot as plt\n",
    "import tensorflow as tf\n",
    "from sklearn.model_selection import train_test_split\n",
    "from sklearn.preprocessing import MinMaxScaler\n",
    "from keras.models import Sequential\n",
    "from keras.layers import Dense, BatchNormalization, GaussianDropout\n",
    "from keras import regularizers\n",
    "from keras.layers import Dense, Dropout, LeakyReLU, PReLU, ELU\n",
    "from keras.layers import Activation\n",
    "from keras.callbacks import EarlyStopping"
   ]
  },
  {
   "cell_type": "markdown",
   "metadata": {},
   "source": [
    "##### *Cargar datos*\n",
    "\n",
    "Posteriormente, se cargaron los datos del archivo ./archive/final_ratings.csv. Este ya fue analizado y procesado en el análisis exploratorio de datos, por lo que no se realizaron modificaciones adicionales."
   ]
  },
  {
   "cell_type": "code",
   "execution_count": 54,
   "metadata": {},
   "outputs": [
    {
     "data": {
      "text/html": [
       "<div>\n",
       "<style scoped>\n",
       "    .dataframe tbody tr th:only-of-type {\n",
       "        vertical-align: middle;\n",
       "    }\n",
       "\n",
       "    .dataframe tbody tr th {\n",
       "        vertical-align: top;\n",
       "    }\n",
       "\n",
       "    .dataframe thead th {\n",
       "        text-align: right;\n",
       "    }\n",
       "</style>\n",
       "<table border=\"1\" class=\"dataframe\">\n",
       "  <thead>\n",
       "    <tr style=\"text-align: right;\">\n",
       "      <th></th>\n",
       "      <th>User-ID</th>\n",
       "      <th>Location</th>\n",
       "      <th>Age</th>\n",
       "      <th>ISBN</th>\n",
       "      <th>Book-Author</th>\n",
       "      <th>Year-Of-Publication</th>\n",
       "      <th>Publisher</th>\n",
       "      <th>Book-Rating</th>\n",
       "      <th>User-Group</th>\n",
       "    </tr>\n",
       "  </thead>\n",
       "  <tbody>\n",
       "    <tr>\n",
       "      <th>0</th>\n",
       "      <td>248805</td>\n",
       "      <td>5290</td>\n",
       "      <td>34.0</td>\n",
       "      <td>425118703.0</td>\n",
       "      <td>21432</td>\n",
       "      <td>1995.0</td>\n",
       "      <td>1714</td>\n",
       "      <td>9</td>\n",
       "      <td>0</td>\n",
       "    </tr>\n",
       "    <tr>\n",
       "      <th>1</th>\n",
       "      <td>248805</td>\n",
       "      <td>5290</td>\n",
       "      <td>34.0</td>\n",
       "      <td>451179285.0</td>\n",
       "      <td>90803</td>\n",
       "      <td>1994.0</td>\n",
       "      <td>10280</td>\n",
       "      <td>10</td>\n",
       "      <td>0</td>\n",
       "    </tr>\n",
       "    <tr>\n",
       "      <th>2</th>\n",
       "      <td>248805</td>\n",
       "      <td>5290</td>\n",
       "      <td>34.0</td>\n",
       "      <td>553279378.0</td>\n",
       "      <td>62076</td>\n",
       "      <td>1983.0</td>\n",
       "      <td>1414</td>\n",
       "      <td>10</td>\n",
       "      <td>0</td>\n",
       "    </tr>\n",
       "    <tr>\n",
       "      <th>3</th>\n",
       "      <td>248805</td>\n",
       "      <td>5290</td>\n",
       "      <td>34.0</td>\n",
       "      <td>805059628.0</td>\n",
       "      <td>77933</td>\n",
       "      <td>1999.0</td>\n",
       "      <td>6903</td>\n",
       "      <td>9</td>\n",
       "      <td>0</td>\n",
       "    </tr>\n",
       "    <tr>\n",
       "      <th>4</th>\n",
       "      <td>248805</td>\n",
       "      <td>5290</td>\n",
       "      <td>34.0</td>\n",
       "      <td>671832174.0</td>\n",
       "      <td>98820</td>\n",
       "      <td>1979.0</td>\n",
       "      <td>11710</td>\n",
       "      <td>0</td>\n",
       "      <td>0</td>\n",
       "    </tr>\n",
       "  </tbody>\n",
       "</table>\n",
       "</div>"
      ],
      "text/plain": [
       "   User-ID  Location   Age         ISBN  Book-Author  Year-Of-Publication  \\\n",
       "0   248805      5290  34.0  425118703.0        21432               1995.0   \n",
       "1   248805      5290  34.0  451179285.0        90803               1994.0   \n",
       "2   248805      5290  34.0  553279378.0        62076               1983.0   \n",
       "3   248805      5290  34.0  805059628.0        77933               1999.0   \n",
       "4   248805      5290  34.0  671832174.0        98820               1979.0   \n",
       "\n",
       "   Publisher  Book-Rating  User-Group  \n",
       "0       1714            9           0  \n",
       "1      10280           10           0  \n",
       "2       1414           10           0  \n",
       "3       6903            9           0  \n",
       "4      11710            0           0  "
      ]
     },
     "execution_count": 54,
     "metadata": {},
     "output_type": "execute_result"
    }
   ],
   "source": [
    "# Cargamos los datos\n",
    "df = pd.read_csv('./archive/final_ratings.csv')\n",
    "\n",
    "df.head()"
   ]
  },
  {
   "cell_type": "markdown",
   "metadata": {},
   "source": [
    "##### *Conjunto de Entrenamiento y Validación*\n",
    "\n",
    "Se separó el conjunto de datos en un conjunto de entrenamiento y un conjunto de validación, con el fin de poder evaluar el desempeño de la red neuronal."
   ]
  },
  {
   "cell_type": "code",
   "execution_count": 55,
   "metadata": {},
   "outputs": [
    {
     "name": "stdout",
     "output_type": "stream",
     "text": [
      "(217783, 5) (217783, 1) (93336, 5) (93336, 1)\n"
     ]
    }
   ],
   "source": [
    "scaler = MinMaxScaler()\n",
    "X = df[['User-Group', 'ISBN', 'Book-Author', 'Year-Of-Publication', 'Publisher']].values\n",
    "X = scaler.fit_transform(X)\n",
    "\n",
    "scaler2 = MinMaxScaler()\n",
    "y = df[['Book-Rating']].values\n",
    "y = scaler2.fit_transform(y)\n",
    "\n",
    "# Dividimos los datos en entrenamiento y validacion\n",
    "X_train, X_test, y_train, y_test = train_test_split(X, y, test_size=0.3, random_state=123)\n",
    "\n",
    "print(X_train.shape, y_train.shape, X_test.shape, y_test.shape)"
   ]
  },
  {
   "cell_type": "markdown",
   "metadata": {},
   "source": [
    "##### *Diseño de Red Neuronal*\n",
    "\n",
    "Posteriormente, se diseñó la red neuronal. Esta recibe como entrada el ID de un usuario, el ISBN de una película, y el grupo de usuario al que pertenece, y devuelve un rating estimado para dicha película.\n",
    "\n",
    "Esta red permite un Sistema de Recomendación basado en Filtro Colaborativo, ya que permite predecir el rating que un usuario le daría a una película, basado en los ratings que otros usuarios le han dado a dicha película y sus similitudes con el usuario en cuestión."
   ]
  },
  {
   "cell_type": "code",
   "execution_count": 56,
   "metadata": {},
   "outputs": [],
   "source": [
    "model2 = Sequential()\n",
    "\n",
    "model2.add(Dense(128, input_shape=(X_train.shape[1],)))\n",
    "model2.add(Activation('relu'))\n",
    "\n",
    "model2.add(Dense(64))\n",
    "model2.add(Activation('relu'))\n",
    "\n",
    "model2.add(Dense(32))\n",
    "model2.add(Activation('relu'))\n",
    "\n",
    "model2.add(Dense(16))\n",
    "model2.add(Activation('relu'))\n",
    "\n",
    "model2.add(Dense(1, activation='linear'))\n",
    "\n",
    "optimizer = tf.keras.optimizers.Adam(learning_rate=0.0001)\n",
    "model2.compile(optimizer=optimizer, loss='huber_loss', metrics=['mae'])"
   ]
  },
  {
   "cell_type": "code",
   "execution_count": 57,
   "metadata": {},
   "outputs": [
    {
     "name": "stdout",
     "output_type": "stream",
     "text": [
      "Epoch 1/10\n",
      "1702/1702 [==============================] - 6s 3ms/step - loss: 0.0556 - mae: 0.2655 - val_loss: 0.0499 - val_mae: 0.2476\n",
      "Epoch 2/10\n",
      "1702/1702 [==============================] - 4s 2ms/step - loss: 0.0487 - mae: 0.2447 - val_loss: 0.0476 - val_mae: 0.2471\n",
      "Epoch 3/10\n",
      "1702/1702 [==============================] - 3s 2ms/step - loss: 0.0473 - mae: 0.2402 - val_loss: 0.0469 - val_mae: 0.2383\n",
      "Epoch 4/10\n",
      "1702/1702 [==============================] - 3s 2ms/step - loss: 0.0471 - mae: 0.2394 - val_loss: 0.0469 - val_mae: 0.2408\n",
      "Epoch 5/10\n",
      "1702/1702 [==============================] - 3s 2ms/step - loss: 0.0470 - mae: 0.2392 - val_loss: 0.0468 - val_mae: 0.2366\n",
      "Epoch 6/10\n",
      "1702/1702 [==============================] - 3s 2ms/step - loss: 0.0470 - mae: 0.2391 - val_loss: 0.0468 - val_mae: 0.2410\n",
      "Epoch 7/10\n",
      "1702/1702 [==============================] - 3s 2ms/step - loss: 0.0470 - mae: 0.2391 - val_loss: 0.0468 - val_mae: 0.2404\n",
      "Epoch 8/10\n",
      "1702/1702 [==============================] - 3s 2ms/step - loss: 0.0469 - mae: 0.2390 - val_loss: 0.0467 - val_mae: 0.2364\n",
      "Epoch 9/10\n",
      "1702/1702 [==============================] - 3s 2ms/step - loss: 0.0469 - mae: 0.2389 - val_loss: 0.0467 - val_mae: 0.2371\n",
      "Epoch 10/10\n",
      "1702/1702 [==============================] - 3s 2ms/step - loss: 0.0469 - mae: 0.2388 - val_loss: 0.0467 - val_mae: 0.2363\n",
      "2917/2917 [==============================] - 3s 1ms/step - loss: 0.0467 - mae: 0.2363\n",
      "\n",
      "Test loss (Model 1): [0.046723853796720505, 0.23629480600357056]\n"
     ]
    }
   ],
   "source": [
    "# Early stopping para evitar overfitting\n",
    "early_stopping = EarlyStopping(monitor='val_loss', patience=5, restore_best_weights=True)\n",
    "\n",
    "# Enrtenamiento del modelo\n",
    "history2 = model2.fit(X_train, y_train, epochs=10, batch_size=128, validation_data=(X_test, y_test), callbacks=[early_stopping])\n",
    "\n",
    "loss1 = model2.evaluate(X_test, y_test)\n",
    "print(f\"\\nTest loss (Model 1): {loss1}\")"
   ]
  },
  {
   "cell_type": "markdown",
   "metadata": {},
   "source": [
    "En este caso, se tiene un Huber Loss de 0.0467 y un MAE de 0.2362.\n",
    "\n",
    "Esto significa que, en promedio, las predicciones difieren en 0.2362 del valor real. Ya que los valores están escalados del 0 a 1, esto significa que las predicciones difieren en un 23.62% en promedio del valor real.\n",
    "\n",
    "Este valor es relativamente bajo. En realidad, los grupos fueron creados utilizando:\n",
    "- El año promedio de publicación de los libros leídos\n",
    "- El promedio de calificaciones dadas\n",
    "\n",
    "Por tal motivo, hay factores aún que posiblemente no se tomaron en cuenta. De tener el género del libro, posiblemnte se podrían crear grupos más específicos, y por lo tanto, mejores predicciones."
   ]
  },
  {
   "cell_type": "code",
   "execution_count": 60,
   "metadata": {},
   "outputs": [
    {
     "data": {
      "image/png": "[encoded data removed]",
      "text/plain": [
       "<Figure size 640x480 with 1 Axes>"
      ]
     },
     "metadata": {},
     "output_type": "display_data"
    }
   ],
   "source": [
    "# Graficar la pérdida de entrenamiento y validación\n",
    "plt.plot(history2.history['loss'])\n",
    "plt.plot(history2.history['val_loss'])\n",
    "plt.title('Pérdida del modelo')\n",
    "plt.ylabel('Pérdida')\n",
    "plt.xlabel('Época')\n",
    "plt.legend(['Entrenamiento', 'Validación'], loc='upper right')\n",
    "\n",
    "plt.show()"
   ]
  },
  {
   "cell_type": "markdown",
   "metadata": {},
   "source": [
    "--------\n",
    "### *Pruebas*\n",
    "\n",
    "A continuación se muestran algunas pruebas realizadas con la red neuronal."
   ]
  },
  {
   "cell_type": "code",
   "execution_count": 81,
   "metadata": {},
   "outputs": [
    {
     "name": "stdout",
     "output_type": "stream",
     "text": [
      "1/1 [==============================] - 0s 23ms/step\n",
      "Rating real: 0.8\n",
      "Rating predicho: 0.7019280195236206\n",
      "\n",
      "\n",
      "------------------ LIBRO ------------------\n",
      "ISBN: 60923245\n",
      "Edición: 1991\n",
      "\n",
      "Creemos que SÍ te gustará este libro, según gustos de personas con gustos similares a los tuyos\n"
     ]
    }
   ],
   "source": [
    "def prueba():\n",
    "    # Seleccionar un dato de prueba aleatorio\n",
    "    random_index = np.random.randint(0, len(X_test))\n",
    "\n",
    "    # Predecir el rating del libro\n",
    "    y_pred = model2.predict(X_test[random_index].reshape(1, 5))\n",
    "    y_pred = y_pred[0][0]\n",
    "\n",
    "    # Obtener el rating real del libro\n",
    "    y_real = y_test[random_index].reshape(-1, 1)\n",
    "    y_real = y_real[0][0]\n",
    "\n",
    "    # Desnormalizar la información del libro\n",
    "    x_test_element = X_test[random_index].reshape(-1, 5)\n",
    "    x_test_element = scaler.inverse_transform(x_test_element)\n",
    "\n",
    "    isbn = int(x_test_element[0][1])\n",
    "    year = int(x_test_element[0][3])\n",
    "\n",
    "    print(f\"Rating real: {y_real}\")\n",
    "    print(f\"Rating predicho: {y_pred}\")\n",
    "\n",
    "    print(\"\\n\\n------------------ LIBRO ------------------\")\n",
    "    print(f\"ISBN: {isbn}\")\n",
    "    print(f\"Edición: {year}\")\n",
    "\n",
    "    if y_pred > 0.5:\n",
    "        print(\"\\nCreemos que SÍ te gustará este libro, según gustos de personas con gustos similares a los tuyos\")\n",
    "    else:\n",
    "        print(\"\\nCreemos que NO te gustará este libro, según gustos de personas con gustos similares a los tuyos\")\n",
    "\n",
    "\n",
    "prueba()"
   ]
  },
  {
   "cell_type": "code",
   "execution_count": 89,
   "metadata": {},
   "outputs": [
    {
     "name": "stdout",
     "output_type": "stream",
     "text": [
      "1/1 [==============================] - 0s 23ms/step\n",
      "Rating real: 0.0\n",
      "Rating predicho: 0.3954775631427765\n",
      "\n",
      "\n",
      "------------------ LIBRO ------------------\n",
      "ISBN: 345365933\n",
      "Edición: 1994\n",
      "\n",
      "Creemos que NO te gustará este libro, según gustos de personas con gustos similares a los tuyos\n"
     ]
    }
   ],
   "source": [
    "prueba()"
   ]
  }
 ],
 "metadata": {
  "kernelspec": {
   "display_name": "Python 3",
   "language": "python",
   "name": "python3"
  },
  "language_info": {
   "codemirror_mode": {
    "name": "ipython",
    "version": 3
   },
   "file_extension": ".py",
   "mimetype": "text/x-python",
   "name": "python",
   "nbconvert_exporter": "python",
   "pygments_lexer": "ipython3",
   "version": "3.9.2"
  }
 },
 "nbformat": 4,
 "nbformat_minor": 2
}
